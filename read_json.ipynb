{
 "cells": [
  {
   "cell_type": "markdown",
   "metadata": {},
   "source": [
    "## Data Loading"
   ]
  },
  {
   "cell_type": "code",
   "execution_count": 4,
   "metadata": {
    "collapsed": false
   },
   "outputs": [],
   "source": [
    "## Import libraries and load data.\n",
    "import json\n",
    "import string\n",
    "import pandas as pd\n",
    "from nltk import word_tokenize\n",
    "from nltk.corpus import stopwords\n",
    "from collections import Counter\n",
    "\n",
    "with open('illegal_pets.json') as data_file:    \n",
    "    data = json.load(data_file)"
   ]
  },
  {
   "cell_type": "code",
   "execution_count": 22,
   "metadata": {
    "collapsed": false
   },
   "outputs": [
    {
     "data": {
      "text/html": [
       "<div>\n",
       "<table border=\"1\" class=\"dataframe\">\n",
       "  <thead>\n",
       "    <tr style=\"text-align: right;\">\n",
       "      <th></th>\n",
       "      <th>u'details</th>\n",
       "      <th>date</th>\n",
       "      <th>streetaddress</th>\n",
       "      <th>city</th>\n",
       "      <th>zip</th>\n",
       "      <th>latitude</th>\n",
       "      <th>longitude</th>\n",
       "      <th>fulladdress</th>\n",
       "      <th>u'type'</th>\n",
       "      <th>animal1</th>\n",
       "      <th>animal2</th>\n",
       "    </tr>\n",
       "  </thead>\n",
       "  <tbody>\n",
       "  </tbody>\n",
       "</table>\n",
       "</div>"
      ],
      "text/plain": [
       "Empty DataFrame\n",
       "Columns: [u'details,  date,  streetaddress,  city,  zip,  latitude,  longitude,  fulladdress,  u'type', animal1, animal2]\n",
       "Index: []"
      ]
     },
     "execution_count": 22,
     "metadata": {},
     "output_type": "execute_result"
    }
   ],
   "source": [
    "## Create data frame to store data.\n",
    "length = len(data['entry'])\n",
    "columns = []\n",
    "\n",
    "for element in str(data['entry'][0]['content']).split(','):\n",
    "        if len(element.split(': ')[-2:]) == 2:\n",
    "            columns.append(element.split(': ')[-2:][0])\n",
    "\n",
    "columns.append('animal1')\n",
    "columns.append('animal2')\n",
    "complaints = pd.DataFrame(columns=columns)\n",
    "complaints"
   ]
  },
  {
   "cell_type": "code",
   "execution_count": 23,
   "metadata": {
    "collapsed": false
   },
   "outputs": [],
   "source": [
    "## Fill data frame.\n",
    "for i in range(length):\n",
    "    for element in str(data['entry'][i]['content']).split(','):\n",
    "        if len(element.split(': ')[-2:]) == 2:\n",
    "            complaints.loc[i, element.split(': ')[-2:][0]] = element.split(': ')[-2:][1]\n",
    "    if pd.isnull(complaints.loc[i,\"u'details\"]):\n",
    "        complaints.loc[i,\"u'details\"] = complaints.loc[i,'u\"details']\n",
    "    if pd.isnull(complaints.loc[i,\"u'details\"]):\n",
    "        complaints.loc[i,\"u'details\"] = complaints.loc[i,'10Th Request In 3Yrs']"
   ]
  },
  {
   "cell_type": "markdown",
   "metadata": {},
   "source": [
    "## Common Words"
   ]
  },
  {
   "cell_type": "code",
   "execution_count": 24,
   "metadata": {
    "collapsed": false
   },
   "outputs": [
    {
     "name": "stdout",
     "output_type": "stream",
     "text": [
      "[('rooster', 89), ('roosters', 56), ('pet', 44), ('snake', 18), ('chickens', 16), ('snakes', 15), ('pig', 12), ('crows', 8), ('chicken', 6), ('birds', 4), ('crow', 3), ('racoon', 1), ('pigs', 1)]\n"
     ]
    }
   ],
   "source": [
    "## Most common words.\n",
    "count_all = Counter()\n",
    "punctuation = list(string.punctuation)\n",
    "stop = stopwords.words('english') + punctuation\n",
    "animals = ['roosters','rooster','snakes','snake','chickens','chicken','pigs','pig','crows','crow','birds','bird'\n",
    "          'racoons','racoon', 'pet']\n",
    "\n",
    "for i in complaints.index:\n",
    "    terms = [term for term in word_tokenize(complaints.loc[i,\"u'details\"].lower()) if term in animals]\n",
    "    count_all.update(terms)\n",
    "    \n",
    "print count_all.most_common(60)\n",
    "\n",
    "\n",
    "for i in complaints.index:\n",
    "    words = word_tokenize(complaints.loc[i,\"u'details\"].lower())\n",
    "    animal_set = set([word for word in words if word in animals])\n",
    "    if animal_set:\n",
    "        complaints.loc[i,\"animal1\"] = animal_set.pop()\n",
    "        #complaints.loc[i,\"animal2\"] = animal_set.pop()"
   ]
  },
  {
   "cell_type": "code",
   "execution_count": 25,
   "metadata": {
    "collapsed": false
   },
   "outputs": [],
   "source": [
    "complaints = complaints.drop(complaints.columns[[7,8,11,12]], axis = 1)\n",
    "complaints\n",
    "complaints.to_csv(\"complaints_details.csv\", index = False)"
   ]
  },
  {
   "cell_type": "code",
   "execution_count": 63,
   "metadata": {
    "collapsed": true
   },
   "outputs": [],
   "source": [
    "## Words per city.\n",
    "common_words = {}\n",
    "\n",
    "for city in complaints.ix[:,3].unique():\n",
    "    count_city = Counter()\n",
    "    city_df = complaints[complaints.ix[:,3] == city]\n",
    "    \n",
    "    for i in city_df.index:    \n",
    "        terms = [term for term in word_tokenize(city_df.loc[i,\"u'details\"].lower()) if term not in stop]\n",
    "        count_city.update(terms)\n",
    "        \n",
    "    common_words[city] = count_city.most_common(10)"
   ]
  },
  {
   "cell_type": "code",
   "execution_count": 64,
   "metadata": {
    "collapsed": false
   },
   "outputs": [
    {
     "data": {
      "text/html": [
       "<div>\n",
       "<table border=\"1\" class=\"dataframe\">\n",
       "  <thead>\n",
       "    <tr style=\"text-align: right;\">\n",
       "      <th></th>\n",
       "      <th>0</th>\n",
       "      <th>1</th>\n",
       "      <th>2</th>\n",
       "      <th>3</th>\n",
       "      <th>4</th>\n",
       "      <th>5</th>\n",
       "      <th>6</th>\n",
       "      <th>7</th>\n",
       "      <th>8</th>\n",
       "      <th>9</th>\n",
       "    </tr>\n",
       "  </thead>\n",
       "  <tbody>\n",
       "    <tr>\n",
       "      <th>Staten Island</th>\n",
       "      <td>(rooster, 7)</td>\n",
       "      <td>(neighbor, 5)</td>\n",
       "      <td>(apartment, 4)</td>\n",
       "      <td>(roosters, 4)</td>\n",
       "      <td>(yard, 4)</td>\n",
       "      <td>(keeping, 4)</td>\n",
       "      <td>(lizard, 4)</td>\n",
       "      <td>(kept, 4)</td>\n",
       "      <td>(health, 3)</td>\n",
       "      <td>(morning, 3)</td>\n",
       "    </tr>\n",
       "    <tr>\n",
       "      <th>Middle Village</th>\n",
       "      <td>(rooster, 4)</td>\n",
       "      <td>None</td>\n",
       "      <td>None</td>\n",
       "      <td>None</td>\n",
       "      <td>None</td>\n",
       "      <td>None</td>\n",
       "      <td>None</td>\n",
       "      <td>None</td>\n",
       "      <td>None</td>\n",
       "      <td>None</td>\n",
       "    </tr>\n",
       "    <tr>\n",
       "      <th>Corona</th>\n",
       "      <td>(roosters, 6)</td>\n",
       "      <td>(back, 3)</td>\n",
       "      <td>(yard, 3)</td>\n",
       "      <td>None</td>\n",
       "      <td>None</td>\n",
       "      <td>None</td>\n",
       "      <td>None</td>\n",
       "      <td>None</td>\n",
       "      <td>None</td>\n",
       "      <td>None</td>\n",
       "    </tr>\n",
       "    <tr>\n",
       "      <th>Ridgewood</th>\n",
       "      <td>(rooster, 4)</td>\n",
       "      <td>(snake, 3)</td>\n",
       "      <td>None</td>\n",
       "      <td>None</td>\n",
       "      <td>None</td>\n",
       "      <td>None</td>\n",
       "      <td>None</td>\n",
       "      <td>None</td>\n",
       "      <td>None</td>\n",
       "      <td>None</td>\n",
       "    </tr>\n",
       "    <tr>\n",
       "      <th>Brooklyn</th>\n",
       "      <td>(rooster, 31)</td>\n",
       "      <td>(neighbor, 21)</td>\n",
       "      <td>(pet, 18)</td>\n",
       "      <td>(keeping, 17)</td>\n",
       "      <td>(kept, 15)</td>\n",
       "      <td>(caller, 13)</td>\n",
       "      <td>(backyard, 12)</td>\n",
       "      <td>(roosters, 9)</td>\n",
       "      <td>(large, 8)</td>\n",
       "      <td>(pets, 8)</td>\n",
       "    </tr>\n",
       "    <tr>\n",
       "      <th>New York</th>\n",
       "      <td>(rooster, 5)</td>\n",
       "      <td>(2, 4)</td>\n",
       "      <td>(customer, 4)</td>\n",
       "      <td>(chicken, 3)</td>\n",
       "      <td>(apartment, 3)</td>\n",
       "      <td>(pet, 3)</td>\n",
       "      <td>(roosters, 3)</td>\n",
       "      <td>(sugar, 3)</td>\n",
       "      <td>(snakes, 3)</td>\n",
       "      <td>(afraid, 3)</td>\n",
       "    </tr>\n",
       "    <tr>\n",
       "      <th>Elmhurst</th>\n",
       "      <td>(rooster, 4)</td>\n",
       "      <td>(kept, 3)</td>\n",
       "      <td>None</td>\n",
       "      <td>None</td>\n",
       "      <td>None</td>\n",
       "      <td>None</td>\n",
       "      <td>None</td>\n",
       "      <td>None</td>\n",
       "      <td>None</td>\n",
       "      <td>None</td>\n",
       "    </tr>\n",
       "    <tr>\n",
       "      <th>Rockaway Park</th>\n",
       "      <td>(kept, 3)</td>\n",
       "      <td>(rooster, 3)</td>\n",
       "      <td>None</td>\n",
       "      <td>None</td>\n",
       "      <td>None</td>\n",
       "      <td>None</td>\n",
       "      <td>None</td>\n",
       "      <td>None</td>\n",
       "      <td>None</td>\n",
       "      <td>None</td>\n",
       "    </tr>\n",
       "    <tr>\n",
       "      <th>Bronx</th>\n",
       "      <td>(roosters, 23)</td>\n",
       "      <td>(rooster, 17)</td>\n",
       "      <td>(kept, 12)</td>\n",
       "      <td>(pet, 10)</td>\n",
       "      <td>(backyard, 8)</td>\n",
       "      <td>(building, 8)</td>\n",
       "      <td>(like, 6)</td>\n",
       "      <td>('s, 5)</td>\n",
       "      <td>(neighbor, 5)</td>\n",
       "      <td>(apartment, 4)</td>\n",
       "    </tr>\n",
       "    <tr>\n",
       "      <th>College Point</th>\n",
       "      <td>(pig, 5)</td>\n",
       "      <td>(even, 3)</td>\n",
       "      <td>None</td>\n",
       "      <td>None</td>\n",
       "      <td>None</td>\n",
       "      <td>None</td>\n",
       "      <td>None</td>\n",
       "      <td>None</td>\n",
       "      <td>None</td>\n",
       "      <td>None</td>\n",
       "    </tr>\n",
       "  </tbody>\n",
       "</table>\n",
       "</div>"
      ],
      "text/plain": [
       "                             0               1               2              3  \\\n",
       "Staten Island     (rooster, 7)   (neighbor, 5)  (apartment, 4)  (roosters, 4)   \n",
       "Middle Village    (rooster, 4)            None            None           None   \n",
       "Corona           (roosters, 6)       (back, 3)       (yard, 3)           None   \n",
       "Ridgewood         (rooster, 4)      (snake, 3)            None           None   \n",
       "Brooklyn         (rooster, 31)  (neighbor, 21)       (pet, 18)  (keeping, 17)   \n",
       "New York          (rooster, 5)          (2, 4)   (customer, 4)   (chicken, 3)   \n",
       "Elmhurst          (rooster, 4)       (kept, 3)            None           None   \n",
       "Rockaway Park        (kept, 3)    (rooster, 3)            None           None   \n",
       "Bronx           (roosters, 23)   (rooster, 17)      (kept, 12)      (pet, 10)   \n",
       "College Point         (pig, 5)       (even, 3)            None           None   \n",
       "\n",
       "                             4              5               6              7  \\\n",
       "Staten Island        (yard, 4)   (keeping, 4)     (lizard, 4)      (kept, 4)   \n",
       "Middle Village            None           None            None           None   \n",
       "Corona                    None           None            None           None   \n",
       "Ridgewood                 None           None            None           None   \n",
       "Brooklyn            (kept, 15)   (caller, 13)  (backyard, 12)  (roosters, 9)   \n",
       "New York        (apartment, 3)       (pet, 3)   (roosters, 3)     (sugar, 3)   \n",
       "Elmhurst                  None           None            None           None   \n",
       "Rockaway Park             None           None            None           None   \n",
       "Bronx            (backyard, 8)  (building, 8)       (like, 6)        ('s, 5)   \n",
       "College Point             None           None            None           None   \n",
       "\n",
       "                            8               9  \n",
       "Staten Island     (health, 3)    (morning, 3)  \n",
       "Middle Village           None            None  \n",
       "Corona                   None            None  \n",
       "Ridgewood                None            None  \n",
       "Brooklyn           (large, 8)       (pets, 8)  \n",
       "New York          (snakes, 3)     (afraid, 3)  \n",
       "Elmhurst                 None            None  \n",
       "Rockaway Park            None            None  \n",
       "Bronx           (neighbor, 5)  (apartment, 4)  \n",
       "College Point            None            None  "
      ]
     },
     "execution_count": 64,
     "metadata": {},
     "output_type": "execute_result"
    }
   ],
   "source": [
    "common_animals = {}\n",
    "\n",
    "for city, animals in common_words.iteritems():\n",
    "    if len([x for x in animals if x[1] > 2]) > 0:\n",
    "        common_animals[city] = [x for x in animals if x[1] > 2]\n",
    "\n",
    "animals_df = pd.DataFrame.from_dict(common_animals, orient='index')\n",
    "animals_df"
   ]
  },
  {
   "cell_type": "code",
   "execution_count": 65,
   "metadata": {
    "collapsed": false
   },
   "outputs": [],
   "source": [
    "animals_df.to_csv(\"common_animals.csv\")"
   ]
  }
 ],
 "metadata": {
  "kernelspec": {
   "display_name": "Python 2",
   "language": "python",
   "name": "python2"
  },
  "language_info": {
   "codemirror_mode": {
    "name": "ipython",
    "version": 2
   },
   "file_extension": ".py",
   "mimetype": "text/x-python",
   "name": "python",
   "nbconvert_exporter": "python",
   "pygments_lexer": "ipython2",
   "version": "2.7.11"
  }
 },
 "nbformat": 4,
 "nbformat_minor": 0
}
